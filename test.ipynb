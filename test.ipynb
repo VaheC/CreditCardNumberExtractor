{
 "cells": [
  {
   "cell_type": "markdown",
   "metadata": {},
   "source": [
    "# Importing some packages"
   ]
  },
  {
   "cell_type": "code",
   "execution_count": 1,
   "metadata": {},
   "outputs": [
    {
     "name": "stderr",
     "output_type": "stream",
     "text": [
      "c:\\Users\\vchar\\anaconda3\\envs\\selenium\\lib\\site-packages\\tqdm\\auto.py:21: TqdmWarning: IProgress not found. Please update jupyter and ipywidgets. See https://ipywidgets.readthedocs.io/en/stable/user_install.html\n",
      "  from .autonotebook import tqdm as notebook_tqdm\n"
     ]
    }
   ],
   "source": [
    "from pathlib import Path\n",
    "import os\n",
    "import shutil\n",
    "from tqdm.auto import tqdm"
   ]
  },
  {
   "cell_type": "markdown",
   "metadata": {},
   "source": [
    "# Creating train and validation datasets"
   ]
  },
  {
   "cell_type": "code",
   "execution_count": 2,
   "metadata": {},
   "outputs": [
    {
     "name": "stderr",
     "output_type": "stream",
     "text": [
      "100%|██████████| 404708/404708 [03:54<00:00, 1728.05it/s]\n",
      "100%|██████████| 26138/26138 [00:14<00:00, 1761.73it/s]\n"
     ]
    }
   ],
   "source": [
    "main_path = Path(r\"C:/\\Users/\\vchar/\\Downloads/\\results\")\n",
    "\n",
    "for sub_folder in ['train', 'valid']: \n",
    "\n",
    "    temp_data_path = os.path.join(main_path, sub_folder)\n",
    "\n",
    "    if not os.path.exists(os.path.join(temp_data_path, 'images')):\n",
    "        os.mkdir(os.path.join(temp_data_path, 'images'))\n",
    "\n",
    "    if not os.path.exists(os.path.join(temp_data_path, 'labels')):\n",
    "        os.mkdir(os.path.join(temp_data_path, 'labels'))\n",
    "\n",
    "    temp_files = os.listdir(temp_data_path)\n",
    "\n",
    "    for file in tqdm(temp_files):\n",
    "        if '.txt' in file:\n",
    "            shutil.move(\n",
    "                os.path.join(main_path, sub_folder, file),\n",
    "                os.path.join(main_path, sub_folder, 'labels', file),\n",
    "            )\n",
    "        elif '.png' in file:\n",
    "            shutil.move(\n",
    "                os.path.join(main_path, sub_folder, file),\n",
    "                os.path.join(main_path, sub_folder, 'images', file),\n",
    "            )\n",
    "        else:\n",
    "            pass"
   ]
  },
  {
   "cell_type": "code",
   "execution_count": 5,
   "metadata": {},
   "outputs": [
    {
     "name": "stderr",
     "output_type": "stream",
     "text": [
      "100%|██████████| 55460/55460 [01:30<00:00, 613.47it/s] \n"
     ]
    }
   ],
   "source": [
    "MOVE_PATH = Path(r\"C:/\\Users/\\vchar/\\Downloads/\\images\")\n",
    "\n",
    "DESTINATION_PATH = Path(r\"C:/\\Users/\\vchar/\\Downloads/\\archive (6)/\\train\")\n",
    "\n",
    "image_files = os.listdir(MOVE_PATH)\n",
    "\n",
    "for image_file in tqdm(image_files):\n",
    "\n",
    "    shutil.move(\n",
    "        os.path.join(MOVE_PATH, image_file),\n",
    "        os.path.join(DESTINATION_PATH, 'images', image_file)\n",
    "    )\n",
    "\n",
    "    label_file = '_'.join(image_file.split('_')[:-1]) + '.txt'\n",
    "\n",
    "    shutil.copy(\n",
    "        os.path.join(DESTINATION_PATH, 'labels', label_file),\n",
    "        os.path.join(DESTINATION_PATH, 'labels', image_file.replace('.jpg', '.txt'))\n",
    "    )"
   ]
  },
  {
   "cell_type": "code",
   "execution_count": null,
   "metadata": {},
   "outputs": [],
   "source": [
    "# Box(P          R      mAP50  mAP50-95)\n",
    "# 0.9      0.928      0.973      0.739"
   ]
  }
 ],
 "metadata": {
  "kernelspec": {
   "display_name": "ml_projects",
   "language": "python",
   "name": "python3"
  },
  "language_info": {
   "codemirror_mode": {
    "name": "ipython",
    "version": 3
   },
   "file_extension": ".py",
   "mimetype": "text/x-python",
   "name": "python",
   "nbconvert_exporter": "python",
   "pygments_lexer": "ipython3",
   "version": "3.10.14"
  }
 },
 "nbformat": 4,
 "nbformat_minor": 2
}
